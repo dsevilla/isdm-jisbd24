{
 "cells": [
  {
   "cell_type": "markdown",
   "metadata": {},
   "source": [
    "# Generate the data for the ISDM-24 track"
   ]
  },
  {
   "cell_type": "code",
   "execution_count": null,
   "metadata": {},
   "outputs": [],
   "source": [
    "%pip install -q pandas openpyxl jinja2"
   ]
  },
  {
   "cell_type": "code",
   "execution_count": null,
   "metadata": {},
   "outputs": [],
   "source": [
    "# Print formatted dates in spanish locale\n",
    "import locale\n",
    "locale.setlocale(locale.LC_ALL, 'es_ES.UTF-8')"
   ]
  },
  {
   "cell_type": "code",
   "execution_count": null,
   "metadata": {},
   "outputs": [],
   "source": [
    "# Read the dataframe from the .xlsx file given by Easychair\n",
    "import pandas as pd\n",
    "df = pd.read_excel('../info/ISDM2024.xlsx',index_col=0,header=0)\n",
    "\n",
    "# df.Author to spanish 'and' -> 'y'\n",
    "df['Authors'] = df['Authors'].str.replace(' and ', ' y ', regex=False)\n",
    "df"
   ]
  },
  {
   "cell_type": "code",
   "execution_count": null,
   "metadata": {},
   "outputs": [],
   "source": [
    "from dataclasses import dataclass\n",
    "from datetime import datetime, timedelta\n",
    "\n",
    "@dataclass\n",
    "class Session:\n",
    "    name: str\n",
    "    start: datetime\n",
    "    end: datetime\n",
    "    location: str\n",
    "    chair: str\n",
    "\n",
    "isdm1 = Session('ISDM-1',\n",
    "                datetime(2024,7,18,9,15),\n",
    "                datetime(2024,7,18,10,15),\n",
    "                'Aula A.3.1',\n",
    "                'Diego Sevilla')\n",
    "\n",
    "isdm2 = Session('ISDM-2',\n",
    "                datetime(2024,7,18,16,00),\n",
    "                datetime(2024,7,18,17,30),\n",
    "                'Aula A.3.1',\n",
    "                'Pedro J. Clemente')\n",
    "\n",
    "isdm3 = Session('ISDM-3',\n",
    "                datetime(2024,7,18,18,00),\n",
    "                datetime(2024,7,18,19,00),\n",
    "                'Aula A.3.1',\n",
    "                'Diego Sevilla y Pedro J. Clemente')\n",
    "\n",
    "sessions = {s.name : s for s in [isdm1, isdm2, isdm3]}\n",
    "\n",
    "session_map = {isdm1.name: [91, 94, 24],\n",
    "               isdm2.name: [3, 2, 4, 121, 124],\n",
    "               isdm3.name: [12, 57, 81]}\n",
    "\n",
    "assert set(session_map.keys()) == set(sessions.keys())\n",
    "# No article left behind\n",
    "assert set(df.index) == set().union(*session_map.values())"
   ]
  },
  {
   "cell_type": "code",
   "execution_count": null,
   "metadata": {},
   "outputs": [],
   "source": [
    "# Produce the slide index from the slideindex template\n",
    "from jinja2 import Template\n",
    "\n",
    "def gen_session_index(sessions: dict[str, Session]) -> None:\n",
    "    template = Template(open('templates/sessionindex.tex.j2').read())\n",
    "    with open('../pr/sessionindex.tex', 'w') as f:\n",
    "        f.write(template.render(sessions=sessions))\n",
    "\n",
    "gen_session_index(sessions)"
   ]
  },
  {
   "cell_type": "code",
   "execution_count": null,
   "metadata": {},
   "outputs": [],
   "source": [
    "def gen_session_slides(sessions: dict[str, Session], session_map: dict[str, list[int]], df) -> None:\n",
    "    template = Template(open('templates/sessionslide.tex.j2').read())\n",
    "\n",
    "    def get_duration(articletype: str):\n",
    "        match articletype:\n",
    "            case 'relevante' | 'completo':\n",
    "                return '20 minutos'\n",
    "            case 'corto' | 'herramienta':\n",
    "                return '10 minutos'\n",
    "            case _:\n",
    "                raise ValueError(f'Unknown article type {articletype}')\n",
    "\n",
    "    def startdate_str(d: datetime) -> str:\n",
    "        return d.strftime('%A, %d de %B de %Y, %H:%M')\n",
    "\n",
    "    for session, papers in session_map.items():\n",
    "        with open(f'../pr/{session}.tex', 'w') as f:\n",
    "            f.write(template.render(session=sessions[session],\n",
    "                                    papers=papers,\n",
    "                                    startdate_str = startdate_str,\n",
    "                                    articlestartdate = sessions[session].start + timedelta(minutes=10),\n",
    "                                    df=df,\n",
    "                                    get_duration=get_duration))\n",
    "\n",
    "gen_session_slides(sessions, session_map, df)"
   ]
  }
 ],
 "metadata": {
  "kernelspec": {
   "display_name": ".venv",
   "language": "python",
   "name": "python3"
  },
  "language_info": {
   "codemirror_mode": {
    "name": "ipython",
    "version": 3
   },
   "file_extension": ".py",
   "mimetype": "text/x-python",
   "name": "python",
   "nbconvert_exporter": "python",
   "pygments_lexer": "ipython3",
   "version": "3.12.3"
  }
 },
 "nbformat": 4,
 "nbformat_minor": 2
}
