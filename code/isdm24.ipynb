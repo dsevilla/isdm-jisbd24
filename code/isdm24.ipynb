{
 "cells": [
  {
   "cell_type": "markdown",
   "metadata": {},
   "source": [
    "# Generate the data for the ISDM-24 track"
   ]
  },
  {
   "cell_type": "code",
   "execution_count": null,
   "metadata": {},
   "outputs": [],
   "source": [
    "%pip install -q pandas openpyxl jinja2"
   ]
  },
  {
   "cell_type": "code",
   "execution_count": null,
   "metadata": {},
   "outputs": [],
   "source": [
    "# Print formatted dates in spanish locale\n",
    "import locale\n",
    "locale.setlocale(locale.LC_ALL, 'es_ES.UTF-8')"
   ]
  },
  {
   "cell_type": "code",
   "execution_count": null,
   "metadata": {},
   "outputs": [],
   "source": [
    "# Read the dataframe from the .xlsx file given by Easychair\n",
    "import pandas as pd\n",
    "df = pd.read_excel('../info/ISDM2024.xlsx',index_col=0,header=0)\n",
    "\n",
    "# df.Author to spanish 'and' -> 'y'\n",
    "df['Authors'] = df['Authors'].str.replace(' and ', ' y ', regex=False)\n",
    "df"
   ]
  },
  {
   "cell_type": "code",
   "execution_count": null,
   "metadata": {},
   "outputs": [],
   "source": [
    "from dataclasses import dataclass\n",
    "from datetime import datetime, timedelta\n",
    "\n",
    "@dataclass\n",
    "class Session:\n",
    "    name: str\n",
    "    start: datetime\n",
    "    paperstart: datetime\n",
    "    end: datetime\n",
    "    location: str\n",
    "    chair: str\n",
    "    papers: list[int]\n",
    "\n",
    "isdm1 = Session('ISDM-1',\n",
    "                datetime(2024,7,18,9,15),\n",
    "                datetime(2024,7,18,9,15)+timedelta(minutes=10), # 10 mins presentation\n",
    "                datetime(2024,7,18,10,15),\n",
    "                'Aula A.3.1',\n",
    "                'Diego Sevilla',\n",
    "                [91, 94, 24])\n",
    "\n",
    "isdm2 = Session('ISDM-2',\n",
    "                datetime(2024,7,18,16,00),\n",
    "                datetime(2024,7,18,16,00),\n",
    "                datetime(2024,7,18,17,30),\n",
    "                'Aula A.3.1',\n",
    "                'Pedro J. Clemente',\n",
    "                [3, 2, 4, 121, 124])\n",
    "\n",
    "isdm3 = Session('ISDM-3',\n",
    "                datetime(2024,7,18,18,00),\n",
    "                datetime(2024,7,18,18,00),\n",
    "                datetime(2024,7,18,19,00),\n",
    "                'Aula A.3.1',\n",
    "                'Diego Sevilla y Pedro J. Clemente',\n",
    "                [12, 57, 81])\n",
    "\n",
    "sessions = {s.name : s for s in [isdm1, isdm2, isdm3]}\n",
    "\n",
    "# No article left behind\n",
    "assert set(df.index) == set().union(*list(map(lambda s: s.papers, sessions.values())))"
   ]
  },
  {
   "cell_type": "code",
   "execution_count": null,
   "metadata": {},
   "outputs": [],
   "source": [
    "# Produce the slide index from the slideindex template\n",
    "from jinja2 import Template\n",
    "\n",
    "def gen_session_index(sessions: dict[str, Session]) -> None:\n",
    "    template = Template(open('templates/sessionindex.tex.j2').read())\n",
    "    with open('../pr/sessionindex.tex', 'w') as f:\n",
    "        f.write(template.render(sessions=sessions))\n",
    "\n",
    "gen_session_index(sessions)"
   ]
  },
  {
   "cell_type": "code",
   "execution_count": null,
   "metadata": {},
   "outputs": [],
   "source": [
    "def gen_session_slides(sessions: dict[str, Session], df: pd.DataFrame) -> None:\n",
    "    template = Template(open('templates/sessionslide.tex.j2').read())\n",
    "\n",
    "    def get_duration_time(articletype: str):\n",
    "        match articletype:\n",
    "            case 'relevante' | 'completo':\n",
    "                return 20\n",
    "            case 'corto' | 'herramienta':\n",
    "                return 10\n",
    "            case _:\n",
    "                raise ValueError(f'Unknown article type {articletype}')\n",
    "\n",
    "    def get_duration(articletype: str):\n",
    "        match articletype:\n",
    "            case 'relevante' | 'completo':\n",
    "                return f'{get_duration_time(articletype)}~min'\n",
    "            case 'corto' | 'herramienta':\n",
    "                return f'{get_duration_time(articletype)}~min'\n",
    "            case _:\n",
    "                raise ValueError(f'Unknown article type {articletype}')\n",
    "\n",
    "    def time_str(d: datetime) -> str:\n",
    "        return d.strftime('%H:%M')\n",
    "\n",
    "    def date_str(d: datetime) -> str:\n",
    "        return d.strftime('%A, %d de %B de %Y, %H:%M')\n",
    "\n",
    "    for session_name, session in sessions.items():\n",
    "        with open(f'../pr/{session_name}.tex', 'w') as f:\n",
    "            f.write(template.render(session=session,\n",
    "                                    papers=session.papers,\n",
    "                                    date_str = date_str,\n",
    "                                    time_str = time_str,\n",
    "                                    df=df,\n",
    "                                    get_duration=get_duration,\n",
    "                                    get_duration_time=get_duration_time,\n",
    "                                    timedelta=timedelta))\n",
    "\n",
    "gen_session_slides(sessions, df)"
   ]
  },
  {
   "cell_type": "code",
   "execution_count": null,
   "metadata": {},
   "outputs": [],
   "source": [
    "%pip install -q pyecore pyecoregen"
   ]
  },
  {
   "cell_type": "code",
   "execution_count": null,
   "metadata": {},
   "outputs": [],
   "source": [
    "!pyecoregen -e isdm-track/model/IsdmTrack.ecore -o . --auto-register-package"
   ]
  },
  {
   "cell_type": "code",
   "execution_count": null,
   "metadata": {},
   "outputs": [],
   "source": [
    "import IsdmTrack as isdm\n",
    "\n",
    "track = isdm.Track(name=\"ISDM'24\")\n",
    "\n",
    "# Participants\n",
    "i_partiipants: dict[str, isdm.Participant] = {}\n",
    "\n",
    "# Papers and authors, traverse the df DataFrame\n",
    "i_papers: dict[int, isdm.Paper] = {}\n",
    "for index,row in df.iterrrows():\n",
    "    i_papers[index] = isdm.Paper(title=row['Title'],\n",
    "                                 tipo=row['Tipo'],\n",
    "                                 abstract=row['Abstract'],\n",
    "                                 keywords=row['Keywords'])\n",
    "    # Split and add authors\n",
    "    authors = row['Authors']\n",
    "    authors = authors.replace(' y ', ',')\n",
    "    authors = authors.split(',')\n",
    "    for author_name in authors:\n",
    "        author_name = author_name.strip()\n",
    "        author = isdm.Participant(name=author_name)\n",
    "        i_participants[author_name] = author\n",
    "        i_papers[index].authors.append(author)\n",
    "\n",
    "\n",
    "i_sessions: dict[str, isdm.Session] = {}\n",
    "\n",
    "for name, session in sessions.items():\n",
    "    i_sessions[name] = isdm.Session(\n",
    "        name=session.name,\n",
    "        start=int(round(session.start.timestamp())),\n",
    "        end=int(round(session.end.timestamp())),\n",
    "        paperstart=int(round(session.paperstart.timestamp())),\n",
    "        location=session.location\n",
    "    )\n",
    "\n",
    "\n"
   ]
  }
 ],
 "metadata": {
  "kernelspec": {
   "display_name": ".venv",
   "language": "python",
   "name": "python3"
  },
  "language_info": {
   "codemirror_mode": {
    "name": "ipython",
    "version": 3
   },
   "file_extension": ".py",
   "mimetype": "text/x-python",
   "name": "python",
   "nbconvert_exporter": "python",
   "pygments_lexer": "ipython3",
   "version": "3.12.3"
  }
 },
 "nbformat": 4,
 "nbformat_minor": 2
}
